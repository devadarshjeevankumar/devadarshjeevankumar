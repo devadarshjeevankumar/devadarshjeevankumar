{
  "nbformat": 4,
  "nbformat_minor": 0,
  "metadata": {
    "colab": {
      "name": "pandas",
      "provenance": [],
      "collapsed_sections": [],
      "authorship_tag": "ABX9TyMsOA66c1tn2jCnjq1VIzh6",
      "include_colab_link": true
    },
    "kernelspec": {
      "name": "python3",
      "display_name": "Python 3"
    },
    "language_info": {
      "name": "python"
    }
  },
  "cells": [
    {
      "cell_type": "markdown",
      "metadata": {
        "id": "view-in-github",
        "colab_type": "text"
      },
      "source": [
        "<a href=\"https://colab.research.google.com/github/devadarshjeevankumar/devadarshjeevankumar/blob/main/pandas.ipynb\" target=\"_parent\"><img src=\"https://colab.research.google.com/assets/colab-badge.svg\" alt=\"Open In Colab\"/></a>"
      ]
    },
    {
      "cell_type": "code",
      "execution_count": null,
      "metadata": {
        "colab": {
          "base_uri": "https://localhost:8080/"
        },
        "id": "ZFJAQn-DV8sO",
        "outputId": "0b36cb16-a469-4278-af90-344a6dc010c9"
      },
      "outputs": [
        {
          "output_type": "stream",
          "name": "stdout",
          "text": [
            "0    1\n",
            "1    2\n",
            "2    3\n",
            "3    4\n",
            "4    5\n",
            "dtype: int64\n"
          ]
        }
      ],
      "source": [
        "import pandas as pd\n",
        "import numpy as np\n",
        "#series is a 1D array which can hold more than one data type\n",
        "s= pd.Series([1,2,3,4,5])\n",
        "print(s)"
      ]
    },
    {
      "cell_type": "code",
      "source": [
        "dict={\"country\":[\"India\",\"southafrica\",\"china\",\"america\"],\"capital\":[\"New Delhi\",\"Pretoria\",\"Beijng\",\"Washington DC\"],\"area\": [8.516, 17.10, 3.286, 9.597],\n",
        "       \"population\": [200.4, 143.5, 1252, 1357] }\n",
        "x=pd.DataFrame(dict)\n",
        "print(x)"
      ],
      "metadata": {
        "colab": {
          "base_uri": "https://localhost:8080/"
        },
        "id": "edcOSVl8Xmfe",
        "outputId": "c98afaaa-920b-4535-bd63-a1de77c6a6d6"
      },
      "execution_count": null,
      "outputs": [
        {
          "output_type": "stream",
          "name": "stdout",
          "text": [
            "       country        capital    area  population\n",
            "0        India      New Delhi   8.516       200.4\n",
            "1  southafrica       Pretoria  17.100       143.5\n",
            "2        china         Beijng   3.286      1252.0\n",
            "3      america  Washington DC   9.597      1357.0\n"
          ]
        }
      ]
    },
    {
      "cell_type": "code",
      "source": [
        "x.index=[\"A\",\"B\",\"C\",\"D\"]\n",
        "print(x)"
      ],
      "metadata": {
        "colab": {
          "base_uri": "https://localhost:8080/"
        },
        "id": "BVO8VDyHX8oF",
        "outputId": "097dc515-25f4-4668-e088-be22d822554d"
      },
      "execution_count": null,
      "outputs": [
        {
          "output_type": "stream",
          "name": "stdout",
          "text": [
            "       country        capital    area  population\n",
            "A        India      New Delhi   8.516       200.4\n",
            "B  southafrica       Pretoria  17.100       143.5\n",
            "C        china         Beijng   3.286      1252.0\n",
            "D      america  Washington DC   9.597      1357.0\n"
          ]
        }
      ]
    },
    {
      "cell_type": "markdown",
      "source": [],
      "metadata": {
        "id": "LfvSDWRtb_Yo"
      }
    },
    {
      "cell_type": "code",
      "source": [
        "cars=pd.read_csv('cars1.csv')\n",
        "print(cars)"
      ],
      "metadata": {
        "colab": {
          "base_uri": "https://localhost:8080/"
        },
        "id": "7YzT9eIIcAzW",
        "outputId": "ed719a4c-26a9-4249-96e8-bffda6bb80dd"
      },
      "execution_count": null,
      "outputs": [
        {
          "output_type": "stream",
          "name": "stdout",
          "text": [
            "           Car       Model  Volume  Weight  CO2\n",
            "0       Toyoty        Aygo    1000     790   99\n",
            "1   Mitsubishi  Space Star    1200    1160   95\n",
            "2        Skoda      Citigo    1000     929   95\n",
            "3         Fiat         500     900     865   90\n",
            "4         Mini      Cooper    1500    1140  105\n",
            "5           VW         Up!    1000     929  105\n",
            "6        Skoda       Fabia    1400    1109   90\n",
            "7     Mercedes     A-Class    1500    1365   92\n",
            "8         Ford      Fiesta    1500    1112   98\n",
            "9         Audi          A1    1600    1150   99\n",
            "10     Hyundai         I20    1100     980   99\n",
            "11      Suzuki       Swift    1300     990  101\n",
            "12        Ford      Fiesta    1000    1112   99\n",
            "13       Honda       Civic    1600    1252   94\n",
            "14      Hundai         I30    1600    1326   97\n",
            "15        Opel       Astra    1600    1330   97\n",
            "16         BMW           1    1600    1365   99\n",
            "17       Mazda           3    2200    1280  104\n",
            "18       Skoda       Rapid    1600    1119  104\n",
            "19        Ford       Focus    2000    1328  105\n",
            "20        Ford      Mondeo    1600    1584   94\n",
            "21        Opel    Insignia    2000    1428   99\n",
            "22    Mercedes     C-Class    2100    1365   99\n",
            "23       Skoda     Octavia    1600    1415   99\n",
            "24       Volvo         S60    2000    1415   99\n",
            "25    Mercedes         CLA    1500    1465  102\n",
            "26        Audi          A4    2000    1490  104\n",
            "27        Audi          A6    2000    1725  114\n",
            "28       Volvo         V70    1600    1523  109\n",
            "29         BMW           5    2000    1705  114\n",
            "30    Mercedes     E-Class    2100    1605  115\n",
            "31       Volvo        XC70    2000    1746  117\n",
            "32        Ford       B-Max    1600    1235  104\n",
            "33         BMW         216    1600    1390  108\n",
            "34        Opel      Zafira    1600    1405  109\n",
            "35    Mercedes         SLK    2500    1395  120\n"
          ]
        }
      ]
    },
    {
      "cell_type": "code",
      "source": [
        "iris=pd.read_csv('iris.csv')\n",
        "print(iris)"
      ],
      "metadata": {
        "colab": {
          "base_uri": "https://localhost:8080/"
        },
        "id": "wvag_Tztcbaa",
        "outputId": "9f35d455-8446-4db6-aae2-729439522874"
      },
      "execution_count": null,
      "outputs": [
        {
          "output_type": "stream",
          "name": "stdout",
          "text": [
            "     sepal.length  sepal.width  petal.length  petal.width    variety\n",
            "0             5.1          3.5           1.4          0.2     Setosa\n",
            "1             4.9          3.0           1.4          0.2     Setosa\n",
            "2             4.7          3.2           1.3          0.2     Setosa\n",
            "3             4.6          3.1           1.5          0.2     Setosa\n",
            "4             5.0          3.6           1.4          0.2     Setosa\n",
            "..            ...          ...           ...          ...        ...\n",
            "145           6.7          3.0           5.2          2.3  Virginica\n",
            "146           6.3          2.5           5.0          1.9  Virginica\n",
            "147           6.5          3.0           5.2          2.0  Virginica\n",
            "148           6.2          3.4           5.4          2.3  Virginica\n",
            "149           5.9          3.0           5.1          1.8  Virginica\n",
            "\n",
            "[150 rows x 5 columns]\n"
          ]
        }
      ]
    },
    {
      "cell_type": "code",
      "source": [
        "print(cars[0:4])\n",
        "print(cars.iloc[9])"
      ],
      "metadata": {
        "colab": {
          "base_uri": "https://localhost:8080/"
        },
        "id": "U0fwYMtjcjpq",
        "outputId": "b9238232-4eea-471a-e815-44e107041111"
      },
      "execution_count": null,
      "outputs": [
        {
          "output_type": "stream",
          "name": "stdout",
          "text": [
            "          Car       Model  Volume  Weight  CO2\n",
            "0      Toyoty        Aygo    1000     790   99\n",
            "1  Mitsubishi  Space Star    1200    1160   95\n",
            "2       Skoda      Citigo    1000     929   95\n",
            "3        Fiat         500     900     865   90\n",
            "Car       Audi\n",
            "Model       A1\n",
            "Volume    1600\n",
            "Weight    1150\n",
            "CO2         99\n",
            "Name: 9, dtype: object\n"
          ]
        }
      ]
    },
    {
      "cell_type": "code",
      "source": [
        "cars.describe()"
      ],
      "metadata": {
        "colab": {
          "base_uri": "https://localhost:8080/",
          "height": 297
        },
        "id": "_yhAslvSdcu6",
        "outputId": "727ce8f9-133b-4245-cef6-4055667d2f71"
      },
      "execution_count": null,
      "outputs": [
        {
          "output_type": "execute_result",
          "data": {
            "text/plain": [
              "            Volume       Weight         CO2\n",
              "count    36.000000    36.000000   36.000000\n",
              "mean   1611.111111  1292.277778  102.027778\n",
              "std     388.975047   242.123889    7.454571\n",
              "min     900.000000   790.000000   90.000000\n",
              "25%    1475.000000  1117.250000   97.750000\n",
              "50%    1600.000000  1329.000000   99.000000\n",
              "75%    2000.000000  1418.250000  105.000000\n",
              "max    2500.000000  1746.000000  120.000000"
            ],
            "text/html": [
              "\n",
              "  <div id=\"df-15db16f8-2924-4953-888b-ba61060e42c8\">\n",
              "    <div class=\"colab-df-container\">\n",
              "      <div>\n",
              "<style scoped>\n",
              "    .dataframe tbody tr th:only-of-type {\n",
              "        vertical-align: middle;\n",
              "    }\n",
              "\n",
              "    .dataframe tbody tr th {\n",
              "        vertical-align: top;\n",
              "    }\n",
              "\n",
              "    .dataframe thead th {\n",
              "        text-align: right;\n",
              "    }\n",
              "</style>\n",
              "<table border=\"1\" class=\"dataframe\">\n",
              "  <thead>\n",
              "    <tr style=\"text-align: right;\">\n",
              "      <th></th>\n",
              "      <th>Volume</th>\n",
              "      <th>Weight</th>\n",
              "      <th>CO2</th>\n",
              "    </tr>\n",
              "  </thead>\n",
              "  <tbody>\n",
              "    <tr>\n",
              "      <th>count</th>\n",
              "      <td>36.000000</td>\n",
              "      <td>36.000000</td>\n",
              "      <td>36.000000</td>\n",
              "    </tr>\n",
              "    <tr>\n",
              "      <th>mean</th>\n",
              "      <td>1611.111111</td>\n",
              "      <td>1292.277778</td>\n",
              "      <td>102.027778</td>\n",
              "    </tr>\n",
              "    <tr>\n",
              "      <th>std</th>\n",
              "      <td>388.975047</td>\n",
              "      <td>242.123889</td>\n",
              "      <td>7.454571</td>\n",
              "    </tr>\n",
              "    <tr>\n",
              "      <th>min</th>\n",
              "      <td>900.000000</td>\n",
              "      <td>790.000000</td>\n",
              "      <td>90.000000</td>\n",
              "    </tr>\n",
              "    <tr>\n",
              "      <th>25%</th>\n",
              "      <td>1475.000000</td>\n",
              "      <td>1117.250000</td>\n",
              "      <td>97.750000</td>\n",
              "    </tr>\n",
              "    <tr>\n",
              "      <th>50%</th>\n",
              "      <td>1600.000000</td>\n",
              "      <td>1329.000000</td>\n",
              "      <td>99.000000</td>\n",
              "    </tr>\n",
              "    <tr>\n",
              "      <th>75%</th>\n",
              "      <td>2000.000000</td>\n",
              "      <td>1418.250000</td>\n",
              "      <td>105.000000</td>\n",
              "    </tr>\n",
              "    <tr>\n",
              "      <th>max</th>\n",
              "      <td>2500.000000</td>\n",
              "      <td>1746.000000</td>\n",
              "      <td>120.000000</td>\n",
              "    </tr>\n",
              "  </tbody>\n",
              "</table>\n",
              "</div>\n",
              "      <button class=\"colab-df-convert\" onclick=\"convertToInteractive('df-15db16f8-2924-4953-888b-ba61060e42c8')\"\n",
              "              title=\"Convert this dataframe to an interactive table.\"\n",
              "              style=\"display:none;\">\n",
              "        \n",
              "  <svg xmlns=\"http://www.w3.org/2000/svg\" height=\"24px\"viewBox=\"0 0 24 24\"\n",
              "       width=\"24px\">\n",
              "    <path d=\"M0 0h24v24H0V0z\" fill=\"none\"/>\n",
              "    <path d=\"M18.56 5.44l.94 2.06.94-2.06 2.06-.94-2.06-.94-.94-2.06-.94 2.06-2.06.94zm-11 1L8.5 8.5l.94-2.06 2.06-.94-2.06-.94L8.5 2.5l-.94 2.06-2.06.94zm10 10l.94 2.06.94-2.06 2.06-.94-2.06-.94-.94-2.06-.94 2.06-2.06.94z\"/><path d=\"M17.41 7.96l-1.37-1.37c-.4-.4-.92-.59-1.43-.59-.52 0-1.04.2-1.43.59L10.3 9.45l-7.72 7.72c-.78.78-.78 2.05 0 2.83L4 21.41c.39.39.9.59 1.41.59.51 0 1.02-.2 1.41-.59l7.78-7.78 2.81-2.81c.8-.78.8-2.07 0-2.86zM5.41 20L4 18.59l7.72-7.72 1.47 1.35L5.41 20z\"/>\n",
              "  </svg>\n",
              "      </button>\n",
              "      \n",
              "  <style>\n",
              "    .colab-df-container {\n",
              "      display:flex;\n",
              "      flex-wrap:wrap;\n",
              "      gap: 12px;\n",
              "    }\n",
              "\n",
              "    .colab-df-convert {\n",
              "      background-color: #E8F0FE;\n",
              "      border: none;\n",
              "      border-radius: 50%;\n",
              "      cursor: pointer;\n",
              "      display: none;\n",
              "      fill: #1967D2;\n",
              "      height: 32px;\n",
              "      padding: 0 0 0 0;\n",
              "      width: 32px;\n",
              "    }\n",
              "\n",
              "    .colab-df-convert:hover {\n",
              "      background-color: #E2EBFA;\n",
              "      box-shadow: 0px 1px 2px rgba(60, 64, 67, 0.3), 0px 1px 3px 1px rgba(60, 64, 67, 0.15);\n",
              "      fill: #174EA6;\n",
              "    }\n",
              "\n",
              "    [theme=dark] .colab-df-convert {\n",
              "      background-color: #3B4455;\n",
              "      fill: #D2E3FC;\n",
              "    }\n",
              "\n",
              "    [theme=dark] .colab-df-convert:hover {\n",
              "      background-color: #434B5C;\n",
              "      box-shadow: 0px 1px 3px 1px rgba(0, 0, 0, 0.15);\n",
              "      filter: drop-shadow(0px 1px 2px rgba(0, 0, 0, 0.3));\n",
              "      fill: #FFFFFF;\n",
              "    }\n",
              "  </style>\n",
              "\n",
              "      <script>\n",
              "        const buttonEl =\n",
              "          document.querySelector('#df-15db16f8-2924-4953-888b-ba61060e42c8 button.colab-df-convert');\n",
              "        buttonEl.style.display =\n",
              "          google.colab.kernel.accessAllowed ? 'block' : 'none';\n",
              "\n",
              "        async function convertToInteractive(key) {\n",
              "          const element = document.querySelector('#df-15db16f8-2924-4953-888b-ba61060e42c8');\n",
              "          const dataTable =\n",
              "            await google.colab.kernel.invokeFunction('convertToInteractive',\n",
              "                                                     [key], {});\n",
              "          if (!dataTable) return;\n",
              "\n",
              "          const docLinkHtml = 'Like what you see? Visit the ' +\n",
              "            '<a target=\"_blank\" href=https://colab.research.google.com/notebooks/data_table.ipynb>data table notebook</a>'\n",
              "            + ' to learn more about interactive tables.';\n",
              "          element.innerHTML = '';\n",
              "          dataTable['output_type'] = 'display_data';\n",
              "          await google.colab.output.renderOutput(dataTable, element);\n",
              "          const docLink = document.createElement('div');\n",
              "          docLink.innerHTML = docLinkHtml;\n",
              "          element.appendChild(docLink);\n",
              "        }\n",
              "      </script>\n",
              "    </div>\n",
              "  </div>\n",
              "  "
            ]
          },
          "metadata": {},
          "execution_count": 22
        }
      ]
    },
    {
      "cell_type": "code",
      "source": [],
      "metadata": {
        "id": "IiNwdRXBgUG7"
      },
      "execution_count": null,
      "outputs": []
    },
    {
      "cell_type": "code",
      "source": [
        "v=pd.Series(np.random.randn(4))\n",
        "print(v)"
      ],
      "metadata": {
        "colab": {
          "base_uri": "https://localhost:8080/"
        },
        "id": "knihbc9PgUMb",
        "outputId": "74e0ae83-ce71-483e-989e-f2d92d8aa3dc"
      },
      "execution_count": null,
      "outputs": [
        {
          "output_type": "stream",
          "name": "stdout",
          "text": [
            "0   -1.045786\n",
            "1   -0.117994\n",
            "2    0.507134\n",
            "3    0.121530\n",
            "dtype: float64\n"
          ]
        }
      ]
    },
    {
      "cell_type": "code",
      "source": [
        "print(v.head(2))"
      ],
      "metadata": {
        "colab": {
          "base_uri": "https://localhost:8080/"
        },
        "id": "HPFGAq8ZhU9m",
        "outputId": "cd903759-c510-47c0-a962-d4ee57979453"
      },
      "execution_count": null,
      "outputs": [
        {
          "output_type": "stream",
          "name": "stdout",
          "text": [
            "0   -1.045786\n",
            "1   -0.117994\n",
            "dtype: float64\n"
          ]
        }
      ]
    },
    {
      "cell_type": "code",
      "source": [
        "print(v.tail(3))"
      ],
      "metadata": {
        "colab": {
          "base_uri": "https://localhost:8080/"
        },
        "id": "wX4pUEbzhjK1",
        "outputId": "6f3e0166-bc9e-4fc9-85bb-60a446e7b07b"
      },
      "execution_count": null,
      "outputs": [
        {
          "output_type": "stream",
          "name": "stdout",
          "text": [
            "1   -0.117994\n",
            "2    0.507134\n",
            "3    0.121530\n",
            "dtype: float64\n"
          ]
        }
      ]
    },
    {
      "cell_type": "code",
      "source": [
        "df=pd.DataFrame(dict)\n",
        "print(df)\n",
        "print(df.T)"
      ],
      "metadata": {
        "colab": {
          "base_uri": "https://localhost:8080/"
        },
        "id": "Iv9eMoE-h8_9",
        "outputId": "0b00b6a1-c250-4eb0-c07a-c45731b291c0"
      },
      "execution_count": null,
      "outputs": [
        {
          "output_type": "stream",
          "name": "stdout",
          "text": [
            "       country        capital    area  population\n",
            "0        India      New Delhi   8.516       200.4\n",
            "1  southafrica       Pretoria  17.100       143.5\n",
            "2        china         Beijng   3.286      1252.0\n",
            "3      america  Washington DC   9.597      1357.0\n",
            "                    0            1       2              3\n",
            "country         India  southafrica   china        america\n",
            "capital     New Delhi     Pretoria  Beijng  Washington DC\n",
            "area            8.516         17.1   3.286          9.597\n",
            "population      200.4        143.5  1252.0         1357.0\n"
          ]
        }
      ]
    },
    {
      "cell_type": "code",
      "source": [
        "print(df.axes)"
      ],
      "metadata": {
        "colab": {
          "base_uri": "https://localhost:8080/"
        },
        "id": "8jK1Ha2Eivzv",
        "outputId": "034b6a6f-0a39-4285-d06c-9ec3d730d18c"
      },
      "execution_count": null,
      "outputs": [
        {
          "output_type": "stream",
          "name": "stdout",
          "text": [
            "[RangeIndex(start=0, stop=4, step=1), Index(['country', 'capital', 'area', 'population'], dtype='object')]\n"
          ]
        }
      ]
    },
    {
      "cell_type": "code",
      "source": [
        "print(df.dtypes)"
      ],
      "metadata": {
        "colab": {
          "base_uri": "https://localhost:8080/"
        },
        "id": "_dDzg5sfi0dT",
        "outputId": "daeb339e-2728-4d8e-c434-07f345a13abd"
      },
      "execution_count": null,
      "outputs": [
        {
          "output_type": "stream",
          "name": "stdout",
          "text": [
            "country        object\n",
            "capital        object\n",
            "area          float64\n",
            "population    float64\n",
            "dtype: object\n"
          ]
        }
      ]
    },
    {
      "cell_type": "code",
      "source": [
        "print(df.ndim)"
      ],
      "metadata": {
        "colab": {
          "base_uri": "https://localhost:8080/"
        },
        "id": "9akeCxDfjKiW",
        "outputId": "9c558e2b-b06e-47c9-ace1-49995d5aa465"
      },
      "execution_count": null,
      "outputs": [
        {
          "output_type": "stream",
          "name": "stdout",
          "text": [
            "2\n"
          ]
        }
      ]
    },
    {
      "cell_type": "code",
      "source": [
        "print(df.shape)"
      ],
      "metadata": {
        "colab": {
          "base_uri": "https://localhost:8080/"
        },
        "id": "hqm4DcQVjham",
        "outputId": "f3c125a7-8d8b-4c10-a4fe-c091b2c7eccd"
      },
      "execution_count": null,
      "outputs": [
        {
          "output_type": "stream",
          "name": "stdout",
          "text": [
            "(4, 4)\n"
          ]
        }
      ]
    },
    {
      "cell_type": "code",
      "source": [
        "print(df.size)"
      ],
      "metadata": {
        "colab": {
          "base_uri": "https://localhost:8080/"
        },
        "id": "NHVVds0_j7b6",
        "outputId": "2749cb80-4511-49fa-fd5f-3c3b944a288f"
      },
      "execution_count": null,
      "outputs": [
        {
          "output_type": "stream",
          "name": "stdout",
          "text": [
            "16\n"
          ]
        }
      ]
    },
    {
      "cell_type": "code",
      "source": [
        "print(df.values)"
      ],
      "metadata": {
        "colab": {
          "base_uri": "https://localhost:8080/"
        },
        "id": "2cywjCrUkF2D",
        "outputId": "7939238e-87ce-45d4-ea84-8a1e2f7b5a9f"
      },
      "execution_count": null,
      "outputs": [
        {
          "output_type": "stream",
          "name": "stdout",
          "text": [
            "[['India' 'New Delhi' 8.516 200.4]\n",
            " ['southafrica' 'Pretoria' 17.1 143.5]\n",
            " ['china' 'Beijng' 3.286 1252.0]\n",
            " ['america' 'Washington DC' 9.597 1357.0]]\n"
          ]
        }
      ]
    },
    {
      "cell_type": "code",
      "source": [
        "df.isnull().sum()"
      ],
      "metadata": {
        "colab": {
          "base_uri": "https://localhost:8080/"
        },
        "id": "_-ehzf9qkJlt",
        "outputId": "523213a2-5a2a-4d38-b7f7-4192e2265cf1"
      },
      "execution_count": null,
      "outputs": [
        {
          "output_type": "execute_result",
          "data": {
            "text/plain": [
              "country       0\n",
              "capital       0\n",
              "area          0\n",
              "population    0\n",
              "dtype: int64"
            ]
          },
          "metadata": {},
          "execution_count": 41
        }
      ]
    },
    {
      "cell_type": "code",
      "source": [
        "import matplotlib.pyplot as plt\n",
        "iris=pd.read_csv('iris.csv')\n",
        "print(iris)\n",
        "fig, ax = plt.subplots()\n",
        "colors = {'Setosa':'r','Versicolor':'g','Virginica':'b'}\n",
        "for i in range(len(iris['sepal.length'])):\n",
        "     ax.scatter(iris['sepal.length'][i],iris['sepal.width'][i],color=colors[iris['variety'][i]])\n",
        "     ax.set_title('Iris Dataset')\n",
        "     ax.set_xlabel('sepal_length')\n",
        "     ax.set_ylabel('sepal_width')\n",
        "     "
      ],
      "metadata": {
        "colab": {
          "base_uri": "https://localhost:8080/",
          "height": 534
        },
        "id": "Yr6TIswmkqFr",
        "outputId": "e4e1432b-a0b5-4d26-b59a-a2fdd7e378d0"
      },
      "execution_count": null,
      "outputs": [
        {
          "output_type": "stream",
          "name": "stdout",
          "text": [
            "     sepal.length  sepal.width  petal.length  petal.width    variety\n",
            "0             5.1          3.5           1.4          0.2     Setosa\n",
            "1             4.9          3.0           1.4          0.2     Setosa\n",
            "2             4.7          3.2           1.3          0.2     Setosa\n",
            "3             4.6          3.1           1.5          0.2     Setosa\n",
            "4             5.0          3.6           1.4          0.2     Setosa\n",
            "..            ...          ...           ...          ...        ...\n",
            "145           6.7          3.0           5.2          2.3  Virginica\n",
            "146           6.3          2.5           5.0          1.9  Virginica\n",
            "147           6.5          3.0           5.2          2.0  Virginica\n",
            "148           6.2          3.4           5.4          2.3  Virginica\n",
            "149           5.9          3.0           5.1          1.8  Virginica\n",
            "\n",
            "[150 rows x 5 columns]\n"
          ]
        },
        {
          "output_type": "display_data",
          "data": {
            "text/plain": [
              "<Figure size 432x288 with 1 Axes>"
            ],
            "image/png": "[encoded data removed]"
          },
          "metadata": {
            "needs_background": "light"
          }
        }
      ]
    }
  ]
}