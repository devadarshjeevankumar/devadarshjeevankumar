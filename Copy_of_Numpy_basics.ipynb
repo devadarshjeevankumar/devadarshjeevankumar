{
  "cells": [
    {
      "cell_type": "markdown",
      "metadata": {
        "id": "view-in-github",
        "colab_type": "text"
      },
      "source": [
        "<a href=\"https://colab.research.google.com/github/devadarshjeevankumar/devadarshjeevankumar/blob/main/Copy_of_Numpy_basics.ipynb\" target=\"_parent\"><img src=\"https://colab.research.google.com/assets/colab-badge.svg\" alt=\"Open In Colab\"/></a>"
      ]
    },
    {
      "cell_type": "markdown",
      "metadata": {
        "id": "y3WvRiCI3FuA"
      },
      "source": [
        "### Three powerful packages\n",
        "- Numpy\n",
        "- Pandas\n",
        "- Matplotlib"
      ]
    },
    {
      "cell_type": "markdown",
      "metadata": {
        "id": "lm4TuUkP3FuH"
      },
      "source": [
        "## Numpy"
      ]
    },
    {
      "cell_type": "markdown",
      "metadata": {
        "id": "J4SRNmWw3FuI"
      },
      "source": [
        "- Used for scientific computing\n",
        "- Helps to create/ manage N-dimensional array"
      ]
    },
    {
      "cell_type": "code",
      "execution_count": null,
      "metadata": {
        "id": "wbuSyuhQ3FuI"
      },
      "outputs": [],
      "source": [
        "import numpy as np #importing numpy package+"
      ]
    },
    {
      "cell_type": "code",
      "execution_count": null,
      "metadata": {
        "id": "d62-60VU3FuJ"
      },
      "outputs": [],
      "source": [
        "x = np.array([1,2,3,4]) #creating numpy array from list"
      ]
    },
    {
      "cell_type": "code",
      "execution_count": null,
      "metadata": {
        "colab": {
          "base_uri": "https://localhost:8080/"
        },
        "id": "lJ7HIdH73FuJ",
        "outputId": "f4c4a4f5-3f06-439a-b958-f987f78ac65b"
      },
      "outputs": [
        {
          "name": "stdout",
          "output_type": "stream",
          "text": [
            "[1 2 3 4]\n"
          ]
        }
      ],
      "source": [
        "print(x)"
      ]
    },
    {
      "cell_type": "code",
      "execution_count": null,
      "metadata": {
        "colab": {
          "base_uri": "https://localhost:8080/"
        },
        "id": "b0duwoUn3FuL",
        "outputId": "03c7dfeb-c3a4-471a-b124-f46ba1038bf5"
      },
      "outputs": [
        {
          "name": "stdout",
          "output_type": "stream",
          "text": [
            "<class 'numpy.ndarray'>\n"
          ]
        }
      ],
      "source": [
        "print(type(x))  "
      ]
    },
    {
      "cell_type": "code",
      "execution_count": null,
      "metadata": {
        "colab": {
          "base_uri": "https://localhost:8080/"
        },
        "id": "v6peH9rG3FuL",
        "outputId": "89486a8e-bb27-40e8-ac50-6fbf53284b16"
      },
      "outputs": [
        {
          "name": "stdout",
          "output_type": "stream",
          "text": [
            "(4,)\n"
          ]
        }
      ],
      "source": [
        "print(x.shape) #printing the dimension of the array"
      ]
    },
    {
      "cell_type": "code",
      "execution_count": null,
      "metadata": {
        "id": "56VJbC-Y3FuM"
      },
      "outputs": [],
      "source": [
        "y = np.array([[1,2],[3,4]])"
      ]
    },
    {
      "cell_type": "code",
      "execution_count": null,
      "metadata": {
        "colab": {
          "base_uri": "https://localhost:8080/"
        },
        "id": "ucIVHT0W3FuM",
        "outputId": "7b896c06-94e8-4839-d085-249aa0c93f37"
      },
      "outputs": [
        {
          "name": "stdout",
          "output_type": "stream",
          "text": [
            "[[1 2]\n",
            " [3 4]]\n",
            "(2, 2)\n"
          ]
        }
      ],
      "source": [
        "print(y)\n",
        "print(y.shape)"
      ]
    },
    {
      "cell_type": "code",
      "execution_count": null,
      "metadata": {
        "id": "hzYmhbtp3FuN"
      },
      "outputs": [],
      "source": [
        "z = np.array([[1+0j,2+5j]])  #printing the dimension of the numpy array"
      ]
    },
    {
      "cell_type": "code",
      "execution_count": null,
      "metadata": {
        "colab": {
          "base_uri": "https://localhost:8080/"
        },
        "id": "fDUnDCa03FuN",
        "outputId": "0922f14a-ba76-4e75-d66b-88a3d8f2641a"
      },
      "outputs": [
        {
          "name": "stdout",
          "output_type": "stream",
          "text": [
            "[[1.+0.j 2.+5.j]]\n",
            "<class 'numpy.ndarray'>\n"
          ]
        }
      ],
      "source": [
        "print(z)\n",
        "print(type(z))"
      ]
    },
    {
      "cell_type": "code",
      "execution_count": null,
      "metadata": {
        "id": "O-QKlMu13FuO"
      },
      "outputs": [],
      "source": [
        "a = np.zeros((2,3)) #creating numpy array of zeros , of dimension (2,3)"
      ]
    },
    {
      "cell_type": "code",
      "execution_count": null,
      "metadata": {
        "colab": {
          "base_uri": "https://localhost:8080/"
        },
        "id": "Urgvjlnb3FuO",
        "outputId": "107d0805-b0e8-4709-974f-81798a724fb2"
      },
      "outputs": [
        {
          "name": "stdout",
          "output_type": "stream",
          "text": [
            "[[0. 0. 0.]\n",
            " [0. 0. 0.]]\n"
          ]
        }
      ],
      "source": [
        "print(a)"
      ]
    },
    {
      "cell_type": "code",
      "execution_count": null,
      "metadata": {
        "colab": {
          "base_uri": "https://localhost:8080/"
        },
        "id": "FVB2-VB33FuO",
        "outputId": "42b0e397-bb59-40ad-d721-8c904c21341a"
      },
      "outputs": [
        {
          "name": "stdout",
          "output_type": "stream",
          "text": [
            "(2, 3)\n"
          ]
        }
      ],
      "source": [
        "print(a.shape)"
      ]
    },
    {
      "cell_type": "code",
      "execution_count": null,
      "metadata": {
        "id": "6nW9dbYy3FuP"
      },
      "outputs": [],
      "source": [
        "b = np.ones((2,3))  #creating numpy array of ones , of dimension (2,3) and integer type)"
      ]
    },
    {
      "cell_type": "code",
      "execution_count": null,
      "metadata": {
        "colab": {
          "base_uri": "https://localhost:8080/"
        },
        "id": "H3a_OgXy3FuP",
        "outputId": "8c5244b8-e82b-4fad-ac01-aec38fd47003"
      },
      "outputs": [
        {
          "name": "stdout",
          "output_type": "stream",
          "text": [
            "[[1 1 1]\n",
            " [1 1 1]]\n"
          ]
        }
      ],
      "source": [
        "print(b)"
      ]
    },
    {
      "cell_type": "code",
      "execution_count": null,
      "metadata": {
        "id": "sq6SXlxQ3FuP"
      },
      "outputs": [],
      "source": [
        "d = np.eye(3) ## identity matrix"
      ]
    },
    {
      "cell_type": "code",
      "execution_count": null,
      "metadata": {
        "colab": {
          "base_uri": "https://localhost:8080/"
        },
        "id": "5dQxqyCc3FuP",
        "outputId": "51bb320a-1ee0-4452-d4bd-6f37ce8f1ca8"
      },
      "outputs": [
        {
          "name": "stdout",
          "output_type": "stream",
          "text": [
            "[[1. 0. 0.]\n",
            " [0. 1. 0.]\n",
            " [0. 0. 1.]]\n"
          ]
        }
      ],
      "source": [
        "print(d)"
      ]
    },
    {
      "cell_type": "code",
      "execution_count": null,
      "metadata": {
        "id": "TJqkEu6v3FuQ"
      },
      "outputs": [],
      "source": [
        "e = np.arange(10) ##similar to Range function"
      ]
    },
    {
      "cell_type": "code",
      "execution_count": null,
      "metadata": {
        "colab": {
          "base_uri": "https://localhost:8080/"
        },
        "id": "PjqNcPeo3FuQ",
        "outputId": "f1554662-ef19-4d8e-8d1d-7f0a362c782b"
      },
      "outputs": [
        {
          "name": "stdout",
          "output_type": "stream",
          "text": [
            "[0 1 2 3 4 5 6 7 8 9]\n"
          ]
        }
      ],
      "source": [
        "print(e)"
      ]
    },
    {
      "cell_type": "code",
      "execution_count": null,
      "metadata": {
        "id": "q5hTEtCW3FuQ"
      },
      "outputs": [],
      "source": [
        "e = np.arange(12, 21)"
      ]
    },
    {
      "cell_type": "code",
      "execution_count": null,
      "metadata": {
        "colab": {
          "base_uri": "https://localhost:8080/"
        },
        "id": "sC0Gbjr-3FuQ",
        "outputId": "2693c542-ad6e-4e33-bef3-46db73428cc6"
      },
      "outputs": [
        {
          "name": "stdout",
          "output_type": "stream",
          "text": [
            "[12 13 14 15 16 17 18 19 20]\n"
          ]
        }
      ],
      "source": [
        "print(e)"
      ]
    },
    {
      "cell_type": "code",
      "execution_count": null,
      "metadata": {
        "id": "gNrAQCR83FuR"
      },
      "outputs": [],
      "source": [
        "e = np.arange(5,20,3)"
      ]
    },
    {
      "cell_type": "code",
      "execution_count": null,
      "metadata": {
        "colab": {
          "base_uri": "https://localhost:8080/"
        },
        "id": "5s3CF-rD3FuR",
        "outputId": "862c6f5a-202a-4471-81e0-b411b8659d49"
      },
      "outputs": [
        {
          "name": "stdout",
          "output_type": "stream",
          "text": [
            "[ 5  8 11 14 17]\n"
          ]
        }
      ],
      "source": [
        "print(e)"
      ]
    },
    {
      "cell_type": "code",
      "execution_count": null,
      "metadata": {
        "colab": {
          "background_save": true
        },
        "id": "GldNvCM13FuR"
      },
      "outputs": [],
      "source": [
        "f = np.linspace(1,20,6) ## It create intervals"
      ]
    },
    {
      "cell_type": "code",
      "execution_count": null,
      "metadata": {
        "colab": {
          "base_uri": "https://localhost:8080/"
        },
        "id": "JGUIlSUs3FuR",
        "outputId": "d69ec75d-555f-421a-cbfa-c2b5dcc8a266"
      },
      "outputs": [
        {
          "name": "stdout",
          "output_type": "stream",
          "text": [
            "[ 1.          4.16666667  7.33333333 10.5        13.66666667 16.83333333\n",
            " 20.        ]\n"
          ]
        }
      ],
      "source": [
        "print(f)"
      ]
    },
    {
      "cell_type": "code",
      "execution_count": null,
      "metadata": {
        "id": "OfMtTsMB3FuR"
      },
      "outputs": [],
      "source": [
        "g = np.random.random((3,4)) #returns an array of specified shape and fills it with random floats in the half-open interval [0.0, 1.0)."
      ]
    },
    {
      "cell_type": "code",
      "execution_count": null,
      "metadata": {
        "colab": {
          "base_uri": "https://localhost:8080/"
        },
        "id": "l3PkQ7ke3FuS",
        "outputId": "8ee6e0de-ab77-49a1-f09e-a5783461a675"
      },
      "outputs": [
        {
          "name": "stdout",
          "output_type": "stream",
          "text": [
            "[[0.06361828 0.46314684 0.25385488 0.83515093]\n",
            " [0.47213821 0.87316298 0.41874094 0.80978929]\n",
            " [0.81529581 0.34524176 0.37004918 0.79510533]]\n"
          ]
        }
      ],
      "source": [
        "print(g)"
      ]
    },
    {
      "cell_type": "code",
      "execution_count": null,
      "metadata": {
        "id": "PaW5K08Q3FuS"
      },
      "outputs": [],
      "source": [
        "h = np.random.random((3,4)) #creating a numpy array having dimension (3,4) with random elements"
      ]
    },
    {
      "cell_type": "code",
      "execution_count": null,
      "metadata": {
        "colab": {
          "base_uri": "https://localhost:8080/"
        },
        "id": "4c4ziZGR3FuS",
        "outputId": "869861d6-119a-479d-b5b7-750336ff42e7"
      },
      "outputs": [
        {
          "name": "stdout",
          "output_type": "stream",
          "text": [
            "[[0.93139117 0.07990736 0.59575067]\n",
            " [0.96704847 0.0082584  0.41994651]\n",
            " [0.35723369 0.5446182  0.05671504]\n",
            " [0.60034791 0.40851153 0.59700139]]\n"
          ]
        }
      ],
      "source": [
        "print(h.reshape(4,3)) "
      ]
    },
    {
      "cell_type": "code",
      "execution_count": null,
      "metadata": {
        "id": "nN45B-zclTwP"
      },
      "outputs": [],
      "source": [
        ""
      ]
    },
    {
      "cell_type": "code",
      "execution_count": null,
      "metadata": {
        "colab": {
          "base_uri": "https://localhost:8080/"
        },
        "id": "1In_bPDf3FuS",
        "outputId": "17f005a1-0f03-46cc-bb3d-7c543280cbad"
      },
      "outputs": [
        {
          "name": "stdout",
          "output_type": "stream",
          "text": [
            "[ 0  1  2  3  4  5  6  7  8  9 10 11]\n",
            "7\n"
          ]
        }
      ],
      "source": [
        "x = np.arange(12)\n",
        "print(x)\n",
        "print(x[7])"
      ]
    },
    {
      "cell_type": "code",
      "execution_count": null,
      "metadata": {
        "colab": {
          "base_uri": "https://localhost:8080/"
        },
        "id": "gBUKJPVm3FuS",
        "outputId": "6956d11a-ca14-42b0-b683-7f736bdb6dff"
      },
      "outputs": [
        {
          "name": "stdout",
          "output_type": "stream",
          "text": [
            "11\n"
          ]
        }
      ],
      "source": [
        "print(x[-1])"
      ]
    },
    {
      "cell_type": "code",
      "execution_count": null,
      "metadata": {
        "id": "j724S8PL3FuS"
      },
      "outputs": [],
      "source": [
        "x.resize(3,4)"
      ]
    },
    {
      "cell_type": "code",
      "execution_count": null,
      "metadata": {
        "colab": {
          "base_uri": "https://localhost:8080/"
        },
        "id": "xjFouxol3FuS",
        "outputId": "448ff28d-5920-434f-942d-4bd3381ac7fe"
      },
      "outputs": [
        {
          "name": "stdout",
          "output_type": "stream",
          "text": [
            "[[ 0  1  2  3]\n",
            " [ 4  5  6  7]\n",
            " [ 8  9 10 11]]\n"
          ]
        }
      ],
      "source": [
        "print(x)"
      ]
    },
    {
      "cell_type": "code",
      "execution_count": null,
      "metadata": {
        "colab": {
          "base_uri": "https://localhost:8080/"
        },
        "id": "SL4UKe5q3FuT",
        "outputId": "aacdbd67-91d3-41fc-e79e-bfaad3e4eec0"
      },
      "outputs": [
        {
          "name": "stdout",
          "output_type": "stream",
          "text": [
            "11\n"
          ]
        }
      ],
      "source": [
        "print(x[-1,-1])"
      ]
    },
    {
      "cell_type": "code",
      "execution_count": null,
      "metadata": {
        "colab": {
          "base_uri": "https://localhost:8080/"
        },
        "id": "uj2SweGJ3FuT",
        "outputId": "e32e79d1-4e3a-48f7-d030-d93238f79905"
      },
      "outputs": [
        {
          "name": "stdout",
          "output_type": "stream",
          "text": [
            "11\n"
          ]
        }
      ],
      "source": [
        "print(x[2][3])"
      ]
    },
    {
      "cell_type": "code",
      "execution_count": null,
      "metadata": {
        "colab": {
          "base_uri": "https://localhost:8080/"
        },
        "id": "mDVM-KP53FuT",
        "outputId": "22d32f78-c01d-4337-c5fe-efa75d878675"
      },
      "outputs": [
        {
          "name": "stdout",
          "output_type": "stream",
          "text": [
            "[ 1  2  3  4  5  6  7  8  9 10 11 12 13 14 15 16 17 18 19 20 21 22 23 24\n",
            " 25]\n",
            "[1 2 3 4 5 6]\n"
          ]
        }
      ],
      "source": [
        "y = np.arange(1,26)\n",
        "print(y)\n",
        "print(y[:6])"
      ]
    },
    {
      "cell_type": "code",
      "execution_count": null,
      "metadata": {
        "colab": {
          "base_uri": "https://localhost:8080/"
        },
        "id": "nfBJMU8S3FuT",
        "outputId": "7e947701-4fc6-40a1-e09f-2607fc71110d"
      },
      "outputs": [
        {
          "name": "stdout",
          "output_type": "stream",
          "text": [
            "[11 12 13 14 15 16 17 18 19 20 21 22 23 24 25]\n"
          ]
        }
      ],
      "source": [
        "print(y[10:])"
      ]
    },
    {
      "cell_type": "code",
      "execution_count": null,
      "metadata": {
        "colab": {
          "base_uri": "https://localhost:8080/"
        },
        "id": "tSpRv0GI3FuT",
        "outputId": "4b3777d7-9ff1-42d4-ec6c-58dc75f1e085"
      },
      "outputs": [
        {
          "name": "stdout",
          "output_type": "stream",
          "text": [
            "[11 12 13 14 15]\n"
          ]
        }
      ],
      "source": [
        "print(y[10:15])"
      ]
    },
    {
      "cell_type": "code",
      "execution_count": null,
      "metadata": {
        "colab": {
          "base_uri": "https://localhost:8080/"
        },
        "id": "mFJZMu9w3FuU",
        "outputId": "ad90e033-f307-43e2-ab0f-fbe23e702693"
      },
      "outputs": [
        {
          "name": "stdout",
          "output_type": "stream",
          "text": [
            "[21 22 23 24 25]\n"
          ]
        }
      ],
      "source": [
        "print(y[-5:])"
      ]
    },
    {
      "cell_type": "code",
      "execution_count": null,
      "metadata": {
        "colab": {
          "base_uri": "https://localhost:8080/"
        },
        "id": "_hHAy42M3FuU",
        "outputId": "087e7a2f-c3e2-4e2e-beac-24c68551ae21"
      },
      "outputs": [
        {
          "name": "stdout",
          "output_type": "stream",
          "text": [
            "[ 4  5  6  7  8  9 10 11 12 13 14 15 16 17 18 19 20 21 22]\n"
          ]
        }
      ],
      "source": [
        "print(y[3:-3])"
      ]
    },
    {
      "cell_type": "code",
      "execution_count": null,
      "metadata": {
        "colab": {
          "base_uri": "https://localhost:8080/"
        },
        "id": "YVD5rhpW3FuU",
        "outputId": "b703454f-b397-4a2f-d2e9-fcfb79696a09"
      },
      "outputs": [
        {
          "name": "stdout",
          "output_type": "stream",
          "text": [
            "[ 1  4  7 10 13 16 19 22 25]\n"
          ]
        }
      ],
      "source": [
        "print(y[::3])"
      ]
    },
    {
      "cell_type": "code",
      "execution_count": null,
      "metadata": {
        "colab": {
          "base_uri": "https://localhost:8080/"
        },
        "id": "Jzg8LjAH3FuU",
        "outputId": "111364d5-b1ad-473b-db71-1c52499c7220"
      },
      "outputs": [
        {
          "name": "stdout",
          "output_type": "stream",
          "text": [
            "[[ 1  2  3  4  5]\n",
            " [ 6  7  8  9 10]\n",
            " [11 12 13 14 15]\n",
            " [16 17 18 19 20]\n",
            " [21 22 23 24 25]]\n"
          ]
        }
      ],
      "source": [
        "print(y.reshape((5,5)))"
      ]
    },
    {
      "cell_type": "code",
      "execution_count": null,
      "metadata": {
        "colab": {
          "base_uri": "https://localhost:8080/"
        },
        "id": "623YkoBq3FuU",
        "outputId": "b31b5ec5-0827-49d9-9741-3521f23f6485"
      },
      "outputs": [
        {
          "name": "stdout",
          "output_type": "stream",
          "text": [
            "[[ 1  2  3  4  5]\n",
            " [ 6  7  8  9 10]\n",
            " [11 12 13 14 15]\n",
            " [16 17 18 19 20]\n",
            " [21 22 23 24 25]]\n",
            "[[ 1  2  3  4  5]\n",
            " [ 6  7  8  9 10]\n",
            " [11 12 13 14 15]\n",
            " [16 17 18 19 20]\n",
            " [21 22 23 24 25]]\n"
          ]
        }
      ],
      "source": [
        "y = y.reshape((5,5))\n",
        "print(y)\n",
        "print(y[:5,:5])"
      ]
    },
    {
      "cell_type": "code",
      "execution_count": null,
      "metadata": {
        "colab": {
          "base_uri": "https://localhost:8080/"
        },
        "id": "Hu7WN_d_3FuU",
        "outputId": "fbb9ce4f-be88-430e-e0ae-f3c4b485891e"
      },
      "outputs": [
        {
          "name": "stdout",
          "output_type": "stream",
          "text": [
            "[[12 13 14]\n",
            " [17 18 19]]\n"
          ]
        }
      ],
      "source": [
        "print(y[2:-1,1:-1])"
      ]
    },
    {
      "cell_type": "code",
      "execution_count": null,
      "metadata": {
        "colab": {
          "base_uri": "https://localhost:8080/"
        },
        "id": "eDC2rAZF3FuV",
        "outputId": "cd52655a-bba9-4941-ee3b-d257d616129e"
      },
      "outputs": [
        {
          "name": "stdout",
          "output_type": "stream",
          "text": [
            "[[ 1  2  3  4]\n",
            " [ 6  7  8  9]\n",
            " [11 12 13 14]\n",
            " [16 17 18 19]\n",
            " [21 22 23 24]]\n"
          ]
        }
      ],
      "source": [
        "print(y[:,:-1])"
      ]
    },
    {
      "cell_type": "code",
      "execution_count": null,
      "metadata": {
        "colab": {
          "base_uri": "https://localhost:8080/"
        },
        "id": "hcAlClo73FuV",
        "outputId": "48e0be41-1d8e-4bc3-85d1-e25568d10bf0"
      },
      "outputs": [
        {
          "name": "stdout",
          "output_type": "stream",
          "text": [
            "[ 5 10 15 20 25]\n"
          ]
        }
      ],
      "source": [
        "print(y[:,-1])"
      ]
    },
    {
      "cell_type": "code",
      "execution_count": null,
      "metadata": {
        "colab": {
          "base_uri": "https://localhost:8080/"
        },
        "id": "Occishma3FuV",
        "outputId": "a9189add-cdcc-4618-8b39-f51734e7cf7e"
      },
      "outputs": [
        {
          "name": "stdout",
          "output_type": "stream",
          "text": [
            "[[ 1  3  5]\n",
            " [ 6  8 10]\n",
            " [11 13 15]\n",
            " [16 18 20]\n",
            " [21 23 25]]\n"
          ]
        }
      ],
      "source": [
        "print(y[::,::2])"
      ]
    },
    {
      "cell_type": "code",
      "execution_count": null,
      "metadata": {
        "colab": {
          "base_uri": "https://localhost:8080/"
        },
        "id": "sO4vNLvY3FuV",
        "outputId": "5657bbbf-0a2f-4dd6-af11-5fd192e9da9c"
      },
      "outputs": [
        {
          "name": "stdout",
          "output_type": "stream",
          "text": [
            "[[ 1  2  3  4  5]\n",
            " [ 6  7  8  9 10]\n",
            " [11 12 13 14 15]\n",
            " [16 17 18 19 20]\n",
            " [21 22 23 24 25]]\n"
          ]
        }
      ],
      "source": [
        "print(y)"
      ]
    },
    {
      "cell_type": "code",
      "execution_count": null,
      "metadata": {
        "colab": {
          "base_uri": "https://localhost:8080/"
        },
        "id": "FWCDJ2G33FuV",
        "outputId": "69dcf8b3-3f03-4493-e9a4-ca5cd2e4d4c4"
      },
      "outputs": [
        {
          "name": "stdout",
          "output_type": "stream",
          "text": [
            "[[ 7  9]\n",
            " [17 19]]\n"
          ]
        }
      ],
      "source": [
        "print(y[1::2,1::2])"
      ]
    },
    {
      "cell_type": "code",
      "execution_count": null,
      "metadata": {
        "colab": {
          "base_uri": "https://localhost:8080/"
        },
        "id": "8AMLYgFc3FuV",
        "outputId": "45559d5a-efcd-4de5-fc74-c5e4908adfed"
      },
      "outputs": [
        {
          "name": "stdout",
          "output_type": "stream",
          "text": [
            "[ 7  9 11 13 15]\n",
            "[-5 -5 -5 -5 -5]\n",
            "[5 5 5 5 5]\n",
            "[ 1  4  9 16 25]\n"
          ]
        }
      ],
      "source": [
        "a = np.arange(1,6)\n",
        "b = np.arange(6,11)\n",
        "print(a+b)\n",
        "print(a-b)\n",
        "print(b-a)\n",
        "print(a**2)"
      ]
    },
    {
      "cell_type": "code",
      "execution_count": null,
      "metadata": {
        "colab": {
          "base_uri": "https://localhost:8080/"
        },
        "id": "qioHdDhj3FuW",
        "outputId": "a65964ec-7972-47e7-95dd-09008e935657"
      },
      "outputs": [
        {
          "name": "stdout",
          "output_type": "stream",
          "text": [
            "[False False False  True  True]\n"
          ]
        }
      ],
      "source": [
        "print(a>3)"
      ]
    },
    {
      "cell_type": "code",
      "execution_count": null,
      "metadata": {
        "id": "68k_J6d53FuW"
      },
      "outputs": [],
      "source": [
        "a = np.arange(0,4).reshape((2,2))"
      ]
    },
    {
      "cell_type": "code",
      "execution_count": null,
      "metadata": {
        "id": "gsA1SKk-3FuW"
      },
      "outputs": [],
      "source": [
        "b = np.eye(2)"
      ]
    },
    {
      "cell_type": "code",
      "execution_count": null,
      "metadata": {
        "colab": {
          "base_uri": "https://localhost:8080/"
        },
        "id": "fup41pWW3FuW",
        "outputId": "5243ee9f-802c-4afe-a6f0-07d07dae70c1"
      },
      "outputs": [
        {
          "name": "stdout",
          "output_type": "stream",
          "text": [
            "[[0. 0.]\n",
            " [0. 3.]]\n"
          ]
        }
      ],
      "source": [
        "print(a*b) ##Wrong"
      ]
    },
    {
      "cell_type": "code",
      "execution_count": null,
      "metadata": {
        "colab": {
          "base_uri": "https://localhost:8080/"
        },
        "id": "sXT9E9Of3FuW",
        "outputId": "d3d463d5-a42b-439c-a7df-1ae0a24562cf"
      },
      "outputs": [
        {
          "name": "stdout",
          "output_type": "stream",
          "text": [
            "[[0. 1.]\n",
            " [2. 3.]]\n"
          ]
        }
      ],
      "source": [
        "print(np.dot(a,b)) ##Matrix multiplication"
      ]
    },
    {
      "cell_type": "code",
      "execution_count": null,
      "metadata": {
        "id": "LsHWu4193FuW"
      },
      "outputs": [],
      "source": [
        "x = np.arange(1,10).reshape(3,3)"
      ]
    },
    {
      "cell_type": "code",
      "execution_count": null,
      "metadata": {
        "id": "QYSbZ65qev6t"
      },
      "outputs": [],
      "source": [
        ""
      ]
    },
    {
      "cell_type": "code",
      "execution_count": null,
      "metadata": {
        "colab": {
          "base_uri": "https://localhost:8080/"
        },
        "id": "ztyuBudB3FuW",
        "outputId": "73d1f6e1-98c6-427a-c36a-1ad0ef47a841"
      },
      "outputs": [
        {
          "name": "stdout",
          "output_type": "stream",
          "text": [
            "[[1 2 3]\n",
            " [4 5 6]\n",
            " [7 8 9]]\n"
          ]
        }
      ],
      "source": [
        "print(x)"
      ]
    },
    {
      "cell_type": "code",
      "execution_count": null,
      "metadata": {
        "colab": {
          "base_uri": "https://localhost:8080/"
        },
        "id": "qaMSz4bh3FuX",
        "outputId": "23990eaa-d482-40db-a9c2-4674a8c1f97f"
      },
      "outputs": [
        {
          "name": "stdout",
          "output_type": "stream",
          "text": [
            "45\n"
          ]
        }
      ],
      "source": [
        "print(x.sum())"
      ]
    },
    {
      "cell_type": "code",
      "execution_count": null,
      "metadata": {
        "colab": {
          "base_uri": "https://localhost:8080/"
        },
        "id": "vZg1ISoj3FuX",
        "outputId": "8911e8f4-7d16-4956-8c45-e4583f2340d9"
      },
      "outputs": [
        {
          "name": "stdout",
          "output_type": "stream",
          "text": [
            "[12 15 18]\n"
          ]
        }
      ],
      "source": [
        "print(x.sum(axis=0))#column sum"
      ]
    },
    {
      "cell_type": "code",
      "execution_count": null,
      "metadata": {
        "colab": {
          "base_uri": "https://localhost:8080/"
        },
        "id": "BY8yh7dq3FuX",
        "outputId": "47851308-12fe-4f87-b853-e4b709a6fda4"
      },
      "outputs": [
        {
          "name": "stdout",
          "output_type": "stream",
          "text": [
            "[ 6 15 24]\n"
          ]
        }
      ],
      "source": [
        "print(x.sum(axis=1))# row sum"
      ]
    },
    {
      "cell_type": "code",
      "execution_count": null,
      "metadata": {
        "id": "PtP8ZUwq3FuY"
      },
      "outputs": [],
      "source": [
        "x = np.arange(1,19).reshape(3,2,3)   # Three dimensional Matrix"
      ]
    },
    {
      "cell_type": "code",
      "execution_count": null,
      "metadata": {
        "colab": {
          "base_uri": "https://localhost:8080/"
        },
        "id": "YPwrv3Lp3FuY",
        "outputId": "f02e68a0-d1ec-44f9-a1c6-087092df9ada"
      },
      "outputs": [
        {
          "name": "stdout",
          "output_type": "stream",
          "text": [
            "[[ 5  7  9]\n",
            " [17 19 21]\n",
            " [29 31 33]]\n"
          ]
        }
      ],
      "source": [
        "print(x.sum(axis=1))"
      ]
    },
    {
      "cell_type": "code",
      "execution_count": null,
      "metadata": {
        "colab": {
          "base_uri": "https://localhost:8080/"
        },
        "id": "xDv-n8Ej3FuY",
        "outputId": "a038b1e1-b6ce-4af1-8958-df1afafe3eaf"
      },
      "outputs": [
        {
          "name": "stdout",
          "output_type": "stream",
          "text": [
            "[[[ 1  2  3]\n",
            "  [ 4  5  6]]\n",
            "\n",
            " [[ 7  8  9]\n",
            "  [10 11 12]]\n",
            "\n",
            " [[13 14 15]\n",
            "  [16 17 18]]]\n"
          ]
        }
      ],
      "source": [
        "print(x)"
      ]
    },
    {
      "cell_type": "code",
      "execution_count": null,
      "metadata": {
        "id": "zkj7vmIF3FuY"
      },
      "outputs": [],
      "source": [
        "x = np.arange(1,10).reshape(3,3)"
      ]
    },
    {
      "cell_type": "code",
      "execution_count": null,
      "metadata": {
        "colab": {
          "base_uri": "https://localhost:8080/"
        },
        "id": "1xfxFDtk3FuY",
        "outputId": "6d3ea12d-3bd8-463a-a4dc-a9669a45136c"
      },
      "outputs": [
        {
          "name": "stdout",
          "output_type": "stream",
          "text": [
            "[[1 2 3]\n",
            " [4 5 6]\n",
            " [7 8 9]]\n",
            "9\n"
          ]
        }
      ],
      "source": [
        "print(x)\n",
        "print(x.max())"
      ]
    },
    {
      "cell_type": "code",
      "execution_count": null,
      "metadata": {
        "colab": {
          "base_uri": "https://localhost:8080/"
        },
        "id": "wIguKmf1ipKk",
        "outputId": "32eebb4f-5120-48bb-b00a-f8381ca067ec"
      },
      "outputs": [
        {
          "name": "stdout",
          "output_type": "stream",
          "text": [
            "45\n"
          ]
        }
      ],
      "source": [
        "print(x.sum())"
      ]
    },
    {
      "cell_type": "code",
      "execution_count": null,
      "metadata": {
        "colab": {
          "base_uri": "https://localhost:8080/"
        },
        "id": "1hducvQf3FuY",
        "outputId": "3145ad9e-cf4e-4f8c-90bc-d4d26e91894b"
      },
      "outputs": [
        {
          "name": "stdout",
          "output_type": "stream",
          "text": [
            "[7 8 9]\n"
          ]
        }
      ],
      "source": [
        "print(x.max(axis=0))"
      ]
    },
    {
      "cell_type": "code",
      "execution_count": null,
      "metadata": {
        "colab": {
          "base_uri": "https://localhost:8080/"
        },
        "id": "AnaWF03t3FuY",
        "outputId": "2aa2ccfb-9c99-4f99-a527-f2f0b74cce88"
      },
      "outputs": [
        {
          "name": "stdout",
          "output_type": "stream",
          "text": [
            "[[1 4 7]\n",
            " [2 5 8]\n",
            " [3 6 9]]\n"
          ]
        }
      ],
      "source": [
        "print(x.transpose())\n"
      ]
    },
    {
      "cell_type": "code",
      "execution_count": null,
      "metadata": {
        "id": "q6noSECP3FuZ"
      },
      "outputs": [],
      "source": [
        ""
      ]
    }
  ],
  "metadata": {
    "colab": {
      "collapsed_sections": [],
      "name": "Copy of Numpy_basics.ipynb",
      "provenance": [],
      "include_colab_link": true
    },
    "kernelspec": {
      "display_name": "Python 3",
      "language": "python",
      "name": "python3"
    },
    "language_info": {
      "codemirror_mode": {
        "name": "ipython",
        "version": 3
      },
      "file_extension": ".py",
      "mimetype": "text/x-python",
      "name": "python",
      "nbconvert_exporter": "python",
      "pygments_lexer": "ipython3",
      "version": "3.8.3"
    }
  },
  "nbformat": 4,
  "nbformat_minor": 0
}